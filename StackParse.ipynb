{
 "cells": [
  {
   "cell_type": "code",
   "execution_count": 1,
   "metadata": {},
   "outputs": [],
   "source": [
    "import matplotlib.pyplot as plt\n",
    "import os\n",
    "import matplotlib.image as mpimg\n",
    "import numpy as np\n",
    "%matplotlib inline\n",
    "import sys\n",
    "from skimage import io\n",
    "from libtiff import TIFF\n",
    "from PIL import Image\n",
    "import glob\n",
    "import matplotlib.animation as animation\n",
    "import pylab as pl\n",
    "import scipy.misc\n",
    "import tifffile\n",
    "from skimage.external import tifffile\n",
    "import random"
   ]
  },
  {
   "cell_type": "code",
   "execution_count": 2,
   "metadata": {},
   "outputs": [],
   "source": []
  },
  {
   "cell_type": "code",
   "execution_count": 3,
   "metadata": {},
   "outputs": [],
   "source": [
    "dirname = '/Users/scott/Pos64/cubeGFP' #folder where GFP movies are\n",
    "os.chdir(dirname)\n",
    "def getint(name):\n",
    "    _,_,_,_, num = name.split('_')\n",
    "    num = num[1:]\n",
    "    num, _ = num.split('.')\n",
    "    return int(num)\n",
    "\n",
    "listing = glob.glob('*.tif')\n",
    "sortedtiffs = sorted(listing, key=getint)\n",
    "with tifffile.TiffWriter('Stack.tif') as stack:\n",
    "    for filename in sortedtiffs:\n",
    "        stack.save(tifffile.imread(filename)[1,:,:], photometric='minisblack')"
   ]
  },
  {
   "cell_type": "code",
   "execution_count": 1,
   "metadata": {},
   "outputs": [
    {
     "ename": "NameError",
     "evalue": "name 'tifffile' is not defined",
     "output_type": "error",
     "traceback": [
      "\u001b[0;31m---------------------------------------------------------------------------\u001b[0m",
      "\u001b[0;31mNameError\u001b[0m                                 Traceback (most recent call last)",
      "\u001b[0;32m<ipython-input-1-17366ff6b038>\u001b[0m in \u001b[0;36m<module>\u001b[0;34m()\u001b[0m\n\u001b[0;32m----> 1\u001b[0;31m \u001b[0ma\u001b[0m \u001b[0;34m=\u001b[0m \u001b[0mtifffile\u001b[0m\u001b[0;34m.\u001b[0m\u001b[0mimread\u001b[0m\u001b[0;34m(\u001b[0m\u001b[0mfilename\u001b[0m\u001b[0;34m)\u001b[0m\u001b[0;34m[\u001b[0m\u001b[0;36m1\u001b[0m\u001b[0;34m,\u001b[0m\u001b[0;34m:\u001b[0m\u001b[0;34m,\u001b[0m\u001b[0;34m:\u001b[0m\u001b[0;34m]\u001b[0m\u001b[0;34m\u001b[0m\u001b[0m\n\u001b[0m",
      "\u001b[0;31mNameError\u001b[0m: name 'tifffile' is not defined"
     ]
    }
   ],
   "source": []
  },
  {
   "cell_type": "code",
   "execution_count": 72,
   "metadata": {},
   "outputs": [],
   "source": [
    "#img=mpimg.imread('stinkbug.png')\n",
    "#img = plt.imshow(img)"
   ]
  },
  {
   "cell_type": "code",
   "execution_count": 5,
   "metadata": {},
   "outputs": [],
   "source": [
    "#yeast = io.imread(\"20181107_RAP_Pos64_c1cubeGFP_t5.tif\")"
   ]
  },
  {
   "cell_type": "code",
   "execution_count": 4,
   "metadata": {},
   "outputs": [],
   "source": [
    "#plt.imshow(yeast)"
   ]
  },
  {
   "cell_type": "code",
   "execution_count": 6,
   "metadata": {},
   "outputs": [],
   "source": [
    "#plt.imshow(yeast[:,:,0])"
   ]
  },
  {
   "cell_type": "code",
   "execution_count": 77,
   "metadata": {},
   "outputs": [],
   "source": []
  },
  {
   "cell_type": "code",
   "execution_count": 78,
   "metadata": {},
   "outputs": [],
   "source": []
  },
  {
   "cell_type": "code",
   "execution_count": null,
   "metadata": {},
   "outputs": [],
   "source": []
  },
  {
   "cell_type": "code",
   "execution_count": 8,
   "metadata": {},
   "outputs": [],
   "source": [
    "# #get middle slide from each of the sorted tiffs and store in allPics\n",
    "# allPics = np.empty((2048,2060,len(sortedtiffs)))\n",
    "# for i in range(len(sortedtiffs)):\n",
    "#     m = io.imread(sortedtiffs[i])\n",
    "#     myslice = m[:,:,1]\n",
    "#     allPics[:,:,i] = myslice\n",
    "#     date,cond,pos,channel, time = sortedtiffs[i].split('_')\n",
    "#     outfile = '%s_%s_%s' % (cond,pos,time)\n",
    "#     scipy.misc.imsave(outfile,myslice)"
   ]
  },
  {
   "cell_type": "code",
   "execution_count": null,
   "metadata": {},
   "outputs": [],
   "source": []
  },
  {
   "cell_type": "code",
   "execution_count": null,
   "metadata": {},
   "outputs": [],
   "source": []
  },
  {
   "cell_type": "code",
   "execution_count": null,
   "metadata": {},
   "outputs": [],
   "source": []
  },
  {
   "cell_type": "code",
   "execution_count": null,
   "metadata": {},
   "outputs": [],
   "source": []
  },
  {
   "cell_type": "code",
   "execution_count": 9,
   "metadata": {},
   "outputs": [],
   "source": [
    "#this function takes the tiffs in the folder, takes middle slice, and saves a stack as Stack.tif"
   ]
  },
  {
   "cell_type": "code",
   "execution_count": null,
   "metadata": {},
   "outputs": [],
   "source": []
  },
  {
   "cell_type": "code",
   "execution_count": null,
   "metadata": {},
   "outputs": [],
   "source": []
  },
  {
   "cell_type": "code",
   "execution_count": null,
   "metadata": {},
   "outputs": [],
   "source": []
  },
  {
   "cell_type": "code",
   "execution_count": 15,
   "metadata": {},
   "outputs": [],
   "source": [
    "#lets merge 6 movies together"
   ]
  },
  {
   "cell_type": "code",
   "execution_count": 9,
   "metadata": {},
   "outputs": [],
   "source": [
    "dirname = '/Users/scott/srp' #folder where cropped movies are\n",
    "os.chdir(dirname)\n",
    "movs = glob.glob('*.tif')\n",
    "\n",
    "mymovs = random.sample(movs,6) #pick a set of 6 \n",
    "\n",
    "m1 = io.imread(mymovs[0]) \n",
    "m1 = m1[:,:,:,1] #take middle slice of movie 1 ...\n",
    "\n",
    "m2 = io.imread(mymovs[1]) \n",
    "m2 = m2[:,:,:,1] #take middle slice of movie 2, etc ...\n",
    "\n",
    "m3 = io.imread(mymovs[2])\n",
    "m3 = m3[:,:,:,1]\n",
    "\n",
    "m4 = io.imread(mymovs[3])\n",
    "m4 = m4[:,:,:,1]\n",
    "\n",
    "m5 = io.imread(mymovs[4])\n",
    "m5 = m5[:,:,:,1]\n",
    "\n",
    "m6 = io.imread(mymovs[5])\n",
    "m6 = m6[:,:,:,1]\n"
   ]
  },
  {
   "cell_type": "code",
   "execution_count": 6,
   "metadata": {},
   "outputs": [
    {
     "data": {
      "text/plain": [
       "256"
      ]
     },
     "execution_count": 6,
     "metadata": {},
     "output_type": "execute_result"
    }
   ],
   "source": [
    "myrange = m1.shape[1]\n",
    "data = np.empty([350,myrange,myrange*2],dtype=\"uint16\")\n",
    "myrange"
   ]
  },
  {
   "cell_type": "code",
   "execution_count": 7,
   "metadata": {},
   "outputs": [],
   "source": [
    "#needlessly complicated function that merges two movies together \n",
    "with tifffile.TiffWriter('Stack.tif') as stack:\n",
    "    for k in range(350):\n",
    "        for i in range(myrange):\n",
    "            data[k,i,0:myrange] = m1[k,i,:]\n",
    "            data[k,i,myrange:2*myrange] = m2[k,i,:]\n",
    "        stack.save(data[k,:,:], photometric='minisblack')\n",
    "#can also do thise through concatenate function!"
   ]
  },
  {
   "cell_type": "markdown",
   "metadata": {},
   "source": [
    "num"
   ]
  },
  {
   "cell_type": "code",
   "execution_count": 10,
   "metadata": {},
   "outputs": [],
   "source": [
    "#merges 6 movies together\n",
    "a = np.concatenate((m1,m2),axis=1)\n",
    "b = np.concatenate((m3,m4),axis=1)\n",
    "c = np.concatenate((m5,m6),axis=1)\n",
    "df = np.concatenate((a,b,c),axis=2)\n",
    "\n",
    "with tifffile.TiffWriter('Stack.tif') as stack:\n",
    "    for k in range(350):\n",
    "        stack.save(df[k,:,:],photometric='minisblack')"
   ]
  },
  {
   "cell_type": "code",
   "execution_count": null,
   "metadata": {},
   "outputs": [],
   "source": []
  },
  {
   "cell_type": "code",
   "execution_count": null,
   "metadata": {},
   "outputs": [],
   "source": [
    "\n"
   ]
  },
  {
   "cell_type": "code",
   "execution_count": null,
   "metadata": {},
   "outputs": [],
   "source": []
  },
  {
   "cell_type": "code",
   "execution_count": null,
   "metadata": {},
   "outputs": [],
   "source": []
  },
  {
   "cell_type": "code",
   "execution_count": null,
   "metadata": {},
   "outputs": [],
   "source": []
  }
 ],
 "metadata": {
  "kernelspec": {
   "display_name": "Python 3",
   "language": "python",
   "name": "python3"
  },
  "language_info": {
   "codemirror_mode": {
    "name": "ipython",
    "version": 3
   },
   "file_extension": ".py",
   "mimetype": "text/x-python",
   "name": "python",
   "nbconvert_exporter": "python",
   "pygments_lexer": "ipython3",
   "version": "3.7.0"
  }
 },
 "nbformat": 4,
 "nbformat_minor": 2
}
